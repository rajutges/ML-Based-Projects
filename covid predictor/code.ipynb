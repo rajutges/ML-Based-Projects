{
 "cells": [
  {
   "cell_type": "code",
   "execution_count": 1,
   "source": [
    "import pandas as pd\r\n",
    "import numpy as np\r\n",
    "import matplotlib.pyplot as plt\r\n",
    "from sklearn.preprocessing import PolynomialFeatures\r\n",
    "from sklearn import linear_model"
   ],
   "outputs": [],
   "metadata": {}
  },
  {
   "cell_type": "code",
   "execution_count": 2,
   "source": [
    "#### LOAD DATA ####\r\n",
    "data = pd.read_csv('coronaCases.csv',sep =',')\r\n",
    "data = data[['id','cases']]\r\n",
    "print('-'*30)\r\n",
    "print('HEAD')\r\n",
    "print('-'*30)\r\n",
    "print(data.head())"
   ],
   "outputs": [
    {
     "output_type": "stream",
     "name": "stdout",
     "text": [
      "------------------------------\n",
      "HEAD\n",
      "------------------------------\n",
      "   id  cases\n",
      "0   1     27\n",
      "1   2     27\n",
      "2   3     27\n",
      "3   4     44\n",
      "4   5     44\n"
     ]
    }
   ],
   "metadata": {}
  },
  {
   "cell_type": "code",
   "execution_count": 3,
   "source": [
    "#### PREPARE DATA ####\r\n",
    "print('-'*30)\r\n",
    "print('PREPARE DATA')\r\n",
    "print('-'*30)\r\n",
    "x = np.array(data['id']).reshape(-1, 1)\r\n",
    "y = np.array(data['cases']).reshape(-1, 1)\r\n",
    "plt.plot(y,'-m')\r\n",
    "#plt.show()\r\n",
    "polyFeat = PolynomialFeatures(degree=3)\r\n",
    "x = polyFeat.fit_transform(x)\r\n",
    "#print(x)"
   ],
   "outputs": [
    {
     "output_type": "stream",
     "name": "stdout",
     "text": [
      "------------------------------\n",
      "PREPARE DATA\n",
      "------------------------------\n"
     ]
    },
    {
     "output_type": "display_data",
     "data": {
      "text/plain": [
       "<Figure size 432x288 with 1 Axes>"
      ],
      "image/png": "[encoded data removed]"
     },
     "metadata": {
      "needs_background": "light"
     }
    }
   ],
   "metadata": {}
  },
  {
   "cell_type": "code",
   "execution_count": 4,
   "source": [
    "#### TRAINING DATA ####\r\n",
    "print('-'*30)\r\n",
    "print('TRAINING DATA')\r\n",
    "print('-'*30)\r\n",
    "model = linear_model.LinearRegression()\r\n",
    "model.fit(x,y)\r\n",
    "accuracy = model.score(x,y)\r\n",
    "print(f'Accuracy:{round(accuracy*100,3)} %')\r\n",
    "y0 = model.predict(x)"
   ],
   "outputs": [
    {
     "output_type": "stream",
     "name": "stdout",
     "text": [
      "------------------------------\n",
      "TRAINING DATA\n",
      "------------------------------\n",
      "Accuracy:99.918 %\n"
     ]
    }
   ],
   "metadata": {}
  },
  {
   "cell_type": "code",
   "execution_count": 5,
   "source": [
    "#### PREDICTION ####\r\n",
    "days = 18\r\n",
    "print('-'*30);print('PREDICTION')\r\n",
    "print('-'*30)\r\n",
    "print(f'Prediction – Cases after {days} days:',end=\"\")\r\n",
    "print(round(int(model.predict(polyFeat.fit_transform([[234+days]])))/1000000,2),'Million')\r\n",
    "\r\n",
    "x1 = np.array(list(range(1,234+days))).reshape(-1,1)\r\n",
    "y1 = model.predict(polyFeat.fit_transform(x1))\r\n",
    "plt.plot(y1,\"r\")\r\n",
    "plt.plot(y0,\"b\")\r\n",
    "plt.show()"
   ],
   "outputs": [
    {
     "output_type": "stream",
     "name": "stdout",
     "text": [
      "------------------------------\n",
      "PREDICTION\n",
      "------------------------------\n",
      "Prediction – Cases after 20 days:28.91 Million\n"
     ]
    },
    {
     "output_type": "display_data",
     "data": {
      "text/plain": [
       "<Figure size 432x288 with 1 Axes>"
      ],
      "image/png": "[encoded data removed]"
     },
     "metadata": {
      "needs_background": "light"
     }
    }
   ],
   "metadata": {}
  }
 ],
 "metadata": {
  "orig_nbformat": 4,
  "language_info": {
   "name": "python",
   "version": "3.7.5",
   "mimetype": "text/x-python",
   "codemirror_mode": {
    "name": "ipython",
    "version": 3
   },
   "pygments_lexer": "ipython3",
   "nbconvert_exporter": "python",
   "file_extension": ".py"
  },
  "kernelspec": {
   "name": "python3",
   "display_name": "Python 3.7.5 64-bit"
  },
  "interpreter": {
   "hash": "9db6b33806dfc4ffd0b81cf0cb0bff9216b17fd90260280733da803e01762afe"
  }
 },
 "nbformat": 4,
 "nbformat_minor": 2
}