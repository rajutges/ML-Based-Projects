{
 "metadata": {
  "language_info": {
   "codemirror_mode": {
    "name": "ipython",
    "version": 3
   },
   "file_extension": ".py",
   "mimetype": "text/x-python",
   "name": "python",
   "nbconvert_exporter": "python",
   "pygments_lexer": "ipython3",
   "version": "3.7.5"
  },
  "orig_nbformat": 4,
  "kernelspec": {
   "name": "python3",
   "display_name": "Python 3.7.5 64-bit"
  },
  "interpreter": {
   "hash": "9db6b33806dfc4ffd0b81cf0cb0bff9216b17fd90260280733da803e01762afe"
  }
 },
 "nbformat": 4,
 "nbformat_minor": 2,
 "cells": [
  {
   "source": [
    "# HOUSE RENT PREDICTON MODEL (Multiple Regression Model)"
   ],
   "cell_type": "markdown",
   "metadata": {}
  },
  {
   "source": [
    "## IMPORTING LIBRARIES"
   ],
   "cell_type": "markdown",
   "metadata": {}
  },
  {
   "cell_type": "code",
   "execution_count": 7,
   "metadata": {},
   "outputs": [
    {
     "output_type": "stream",
     "name": "stdout",
     "text": [
      "------------------------------\nIMPORTING DATA \n------------------------------\n"
     ]
    }
   ],
   "source": [
    "import pandas as pd\n",
    "from sklearn import preprocessing,linear_model\n",
    "import numpy as np\n",
    "import sklearn\n",
    "\n",
    "#### LOAD DATA ####\n",
    "print('-'*30);print(\"IMPORTING DATA \");print('-'*30)\n",
    "data = pd.read_csv(\"houses_to_rent.csv\",sep = ',')"
   ]
  },
  {
   "cell_type": "code",
   "execution_count": 8,
   "metadata": {},
   "outputs": [
    {
     "output_type": "stream",
     "name": "stdout",
     "text": [
      "   id  city  area  rooms  bathroom  parking spaces floor     animal  \\\n0   0     1   240      3         3               4     -      acept   \n1   1     0    64      2         1               1    10      acept   \n2   2     1   443      5         5               4     3      acept   \n3   3     1    73      2         2               1    12      acept   \n4   4     1    19      1         1               0     -  not acept   \n\n       furniture      hoa rent amount property tax fire insurance     total  \n0      furnished      R$0     R$8,000      R$1,000          R$121   R$9,121  \n1  not furnished    R$540       R$820        R$122           R$11   R$1,493  \n2      furnished  R$4,172     R$7,000      R$1,417           R$89  R$12,680  \n3  not furnished    R$700     R$1,250        R$150           R$16   R$2,116  \n4  not furnished      R$0     R$1,200         R$41           R$16   R$1,257  \n"
     ]
    }
   ],
   "source": [
    "print(data.head())"
   ]
  },
  {
   "source": [
    "## LOADING DATA FROM THE DATASET"
   ],
   "cell_type": "markdown",
   "metadata": {}
  },
  {
   "cell_type": "code",
   "execution_count": 9,
   "metadata": {},
   "outputs": [
    {
     "output_type": "stream",
     "name": "stdout",
     "text": [
      "------------------------------\nIMPORTING DATA \n------------------------------\n   city  rooms  bathroom  parking spaces fire insurance      furniture  \\\n0     1      3         3               4          R$121      furnished   \n1     0      2         1               1           R$11  not furnished   \n2     1      5         5               4           R$89      furnished   \n3     1      2         2               1           R$16  not furnished   \n4     1      1         1               0           R$16  not furnished   \n\n  rent amount  \n0     R$8,000  \n1       R$820  \n2     R$7,000  \n3     R$1,250  \n4     R$1,200  \n"
     ]
    }
   ],
   "source": [
    "#### LOAD DATA ####\n",
    "print('-'*30);print(\"IMPORTING DATA \");print('-'*30)\n",
    "data = pd.read_csv(\"houses_to_rent.csv\", sep = ',')\n",
    "data = data [[\"city\",\"rooms\",'bathroom', 'parking spaces','fire insurance',\n",
    "'furniture','rent amount']]\n",
    "print(data.head())\n",
    "\n"
   ]
  },
  {
   "source": [
    "## DATA EXPLORATION AND PRE PROCESSING"
   ],
   "cell_type": "markdown",
   "metadata": {}
  },
  {
   "cell_type": "code",
   "execution_count": 10,
   "metadata": {},
   "outputs": [
    {
     "output_type": "stream",
     "name": "stdout",
     "text": [
      "   city  rooms  bathroom  parking spaces  fire insurance  furniture  \\\n0     1      3         3               4             121          0   \n1     0      2         1               1              11          1   \n2     1      5         5               4              89          0   \n3     1      2         2               1              16          1   \n4     1      1         1               0              16          1   \n\n   rent amount  \n0         8000  \n1          820  \n2         7000  \n3         1250  \n4         1200  \n"
     ]
    }
   ],
   "source": [
    "#### PROCESS DATA ####\n",
    "data['rent amount'] = data['rent amount'].map(lambda i: int(i[2:].replace(',',\"\")))\n",
    "data['fire insurance'] = data['fire insurance'].map(lambda i: int(i[2:].replace(',','')))\n",
    "le = preprocessing.LabelEncoder()\n",
    "data['furniture'] = le.fit_transform((data['furniture']))\n",
    "print(data.head())"
   ]
  },
  {
   "source": [
    "## TREATING THE MISSING VALUES"
   ],
   "cell_type": "markdown",
   "metadata": {}
  },
  {
   "cell_type": "code",
   "execution_count": 11,
   "metadata": {},
   "outputs": [
    {
     "output_type": "stream",
     "name": "stdout",
     "text": [
      "------------------------------\nCHECKING NULL DATA \n------------------------------\ncity              0\nrooms             0\nbathroom          0\nparking spaces    0\nfire insurance    0\nfurniture         0\nrent amount       0\ndtype: int64\n------------------------------\nHEAD \n------------------------------\n   city  rooms  bathroom  parking spaces  fire insurance  furniture  \\\n0     1      3         3               4             121          0   \n1     0      2         1               1              11          1   \n2     1      5         5               4              89          0   \n3     1      2         2               1              16          1   \n4     1      1         1               0              16          1   \n\n   rent amount  \n0         8000  \n1          820  \n2         7000  \n3         1250  \n4         1200  \n"
     ]
    }
   ],
   "source": [
    "\n",
    "print('-'*30);print(\"CHECKING NULL DATA \");print('-'*30)\n",
    "print(data.isnull().sum())\n",
    "#data = data.dropna()\n",
    "print('-'*30);print(\"HEAD \");print('-'*30)\n",
    "# print(‘-‘*30);print(” HEAD “);print(‘-‘*30);\n",
    "print(data.head())"
   ]
  },
  {
   "source": [
    "##  TRAINING PROCESS"
   ],
   "cell_type": "markdown",
   "metadata": {}
  },
  {
   "source": [
    "### SPLITTING THE DATA "
   ],
   "cell_type": "markdown",
   "metadata": {}
  },
  {
   "cell_type": "code",
   "execution_count": 12,
   "metadata": {},
   "outputs": [
    {
     "output_type": "stream",
     "name": "stdout",
     "text": [
      "X (6080, 6)\nY (6080,)\n"
     ]
    }
   ],
   "source": [
    "#### SPLT DATA ####\n",
    "# print(‘-‘*30);print(” SPLIT DATA “);print(‘-‘*30);\n",
    "x = np.array(data.drop(['rent amount'],1))\n",
    "y = np.array(data['rent amount'])\n",
    "print('X',x.shape)\n",
    "print('Y',y.shape)\n"
   ]
  },
  {
   "source": [
    "SPLITTED INTO TRAIN AND TEST MODULES"
   ],
   "cell_type": "markdown",
   "metadata": {}
  },
  {
   "cell_type": "code",
   "execution_count": 13,
   "metadata": {},
   "outputs": [
    {
     "output_type": "stream",
     "name": "stdout",
     "text": [
      "XTrain (4864, 6)\nXTest (1216, 6)\n"
     ]
    }
   ],
   "source": [
    "\n",
    "xTrain, xTest, yTrain, yTest = sklearn.model_selection.train_test_split(x,y,\n",
    "test_size=0.2,\n",
    "random_state=10)\n",
    "print('XTrain',xTrain.shape)\n",
    "print('XTest',xTest.shape)"
   ]
  },
  {
   "source": [
    "## TRAINING THE MODULE"
   ],
   "cell_type": "markdown",
   "metadata": {}
  },
  {
   "cell_type": "code",
   "execution_count": 14,
   "metadata": {},
   "outputs": [],
   "source": [
    "#### TRAINING ####\n",
    "# print(‘-‘*30);print(” TRAINING “);print(‘-‘*30);\n",
    "model = linear_model.LinearRegression()\n",
    "model.fit(xTrain,yTrain)\n",
    "accuracy = model.score(xTest,yTest)\n"
   ]
  },
  {
   "source": [
    "GET THE COEFFICIENTS AND INTERCEPT OF THE LINEAR REGRESSION "
   ],
   "cell_type": "markdown",
   "metadata": {}
  },
  {
   "cell_type": "code",
   "execution_count": 15,
   "metadata": {},
   "outputs": [
    {
     "output_type": "stream",
     "name": "stdout",
     "text": [
      "Cofficients:  [ 185.23644667  -57.15559961   83.65761406  -55.92224734   71.03392015\n -233.94340901]\nIntercept:  319.824572837053\n"
     ]
    }
   ],
   "source": [
    "print('Cofficients: ',model.coef_)\n",
    "print('Intercept: ', model.intercept_)"
   ]
  },
  {
   "source": [
    "ACCURACY OF THE PREDICTION"
   ],
   "cell_type": "markdown",
   "metadata": {}
  },
  {
   "cell_type": "code",
   "execution_count": 16,
   "metadata": {},
   "outputs": [
    {
     "output_type": "stream",
     "name": "stdout",
     "text": [
      "Accuracy: 97.572 %\n"
     ]
    }
   ],
   "source": [
    "print('Accuracy:',round(accuracy*100,3),'%')"
   ]
  },
  {
   "source": [
    "## EVALUATION OF THE MODEL"
   ],
   "cell_type": "markdown",
   "metadata": {}
  },
  {
   "cell_type": "code",
   "execution_count": 17,
   "metadata": {
    "tags": [
     "outputPrepend"
    ]
   },
   "outputs": [
    {
     "output_type": "stream",
     "name": "stdout",
     "text": [
      "0 Prediction:1662 Error: -362\n",
      "Acutal:3100 Prediction:3083 Error: 16\n",
      "Acutal:4500 Prediction:4386 Error: 113\n",
      "Acutal:4200 Prediction:4729 Error: -529\n",
      "Acutal:4000 Prediction:4711 Error: -711\n",
      "Acutal:9800 Prediction:8876 Error: 923\n",
      "Acutal:680 Prediction:638 Error: 41\n",
      "Acutal:8500 Prediction:9544 Error: -1044\n",
      "Acutal:2500 Prediction:2345 Error: 154\n",
      "Acutal:1654 Prediction:1590 Error: 63\n",
      "Acutal:1500 Prediction:1662 Error: -162\n",
      "Acutal:6500 Prediction:6455 Error: 44\n",
      "Acutal:15000 Prediction:13888 Error: 1111\n",
      "Acutal:3500 Prediction:3752 Error: -252\n",
      "Acutal:2288 Prediction:1114 Error: 1173\n",
      "Acutal:2700 Prediction:2690 Error: 9\n",
      "Acutal:7500 Prediction:7432 Error: 67\n",
      "Acutal:1680 Prediction:1717 Error: -37\n",
      "Acutal:1800 Prediction:1659 Error: 140\n",
      "Acutal:6200 Prediction:5850 Error: 349\n",
      "Acutal:5870 Prediction:5716 Error: 153\n",
      "Acutal:2960 Prediction:2989 Error: -29\n",
      "Acutal:1710 Prediction:1773 Error: -63\n",
      "Acutal:5000 Prediction:4615 Error: 384\n",
      "Acutal:820 Prediction:837 Error: -17\n",
      "Acutal:1300 Prediction:1392 Error: -92\n",
      "Acutal:1110 Prediction:1007 Error: 102\n",
      "Acutal:7000 Prediction:6534 Error: 465\n",
      "Acutal:4998 Prediction:4992 Error: 5\n",
      "Acutal:1900 Prediction:1875 Error: 24\n",
      "Acutal:2500 Prediction:2514 Error: -14\n",
      "Acutal:1560 Prediction:1833 Error: -273\n",
      "Acutal:3000 Prediction:2897 Error: 102\n",
      "Acutal:4100 Prediction:4609 Error: -509\n",
      "Acutal:1800 Prediction:1875 Error: -75\n",
      "Acutal:1500 Prediction:1605 Error: -105\n",
      "Acutal:4800 Prediction:4778 Error: 21\n",
      "Acutal:10000 Prediction:9174 Error: 825\n",
      "Acutal:4500 Prediction:5040 Error: -540\n",
      "Acutal:15000 Prediction:13719 Error: 1280\n",
      "Acutal:2010 Prediction:2031 Error: -21\n",
      "Acutal:1613 Prediction:694 Error: 918\n",
      "Acutal:12000 Prediction:13207 Error: -1207\n",
      "Acutal:1900 Prediction:1904 Error: -4\n",
      "Acutal:2500 Prediction:2883 Error: -383\n",
      "Acutal:3800 Prediction:4358 Error: -558\n",
      "Acutal:1050 Prediction:752 Error: 297\n",
      "Acutal:3327 Prediction:3500 Error: -173\n",
      "Acutal:1099 Prediction:993 Error: 105\n",
      "Acutal:1800 Prediction:823 Error: 976\n",
      "Acutal:2500 Prediction:2513 Error: -13\n",
      "Acutal:1200 Prediction:1434 Error: -234\n",
      "Acutal:20000 Prediction:18457 Error: 1542\n",
      "Acutal:9800 Prediction:10469 Error: -669\n",
      "Acutal:730 Prediction:709 Error: 20\n",
      "Acutal:4700 Prediction:5279 Error: -579\n",
      "Acutal:15000 Prediction:13806 Error: 1193\n",
      "Acutal:1500 Prediction:1364 Error: 135\n",
      "Acutal:600 Prediction:624 Error: -24\n",
      "Acutal:10200 Prediction:9792 Error: 407\n",
      "Acutal:1300 Prediction:1974 Error: -674\n",
      "Acutal:12000 Prediction:11078 Error: 921\n",
      "Acutal:4398 Prediction:4219 Error: 178\n",
      "Acutal:2720 Prediction:2724 Error: -4\n",
      "Acutal:3500 Prediction:3921 Error: -421\n",
      "Acutal:3950 Prediction:4205 Error: -255\n",
      "Acutal:2200 Prediction:2286 Error: -86\n",
      "Acutal:8500 Prediction:9101 Error: -601\n",
      "Acutal:4700 Prediction:5486 Error: -786\n",
      "Acutal:8000 Prediction:8308 Error: -308\n",
      "Acutal:1500 Prediction:1900 Error: -400\n",
      "Acutal:650 Prediction:695 Error: -45\n",
      "Acutal:12000 Prediction:11312 Error: 687\n",
      "Acutal:6400 Prediction:5894 Error: 505\n",
      "Acutal:3300 Prediction:3493 Error: -193\n",
      "Acutal:3190 Prediction:3123 Error: 66\n",
      "Acutal:7000 Prediction:6475 Error: 524\n",
      "Acutal:5520 Prediction:5448 Error: 71\n",
      "Acutal:2312 Prediction:723 Error: 1588\n",
      "Acutal:1750 Prediction:2242 Error: -492\n",
      "Acutal:3000 Prediction:3038 Error: -38\n",
      "Acutal:3000 Prediction:3598 Error: -598\n",
      "Acutal:1100 Prediction:354 Error: 745\n",
      "Acutal:4500 Prediction:4331 Error: 168\n",
      "Acutal:1900 Prediction:2244 Error: -344\n",
      "Acutal:3550 Prediction:3672 Error: -122\n",
      "Acutal:1260 Prediction:1514 Error: -254\n",
      "Acutal:6000 Prediction:5914 Error: 85\n",
      "Acutal:2200 Prediction:2015 Error: 184\n",
      "Acutal:5100 Prediction:4942 Error: 157\n",
      "Acutal:2500 Prediction:2514 Error: -14\n",
      "Acutal:4200 Prediction:4310 Error: -110\n",
      "Acutal:3300 Prediction:3698 Error: -398\n",
      "Acutal:6000 Prediction:5960 Error: 39\n",
      "Acutal:3250 Prediction:3138 Error: 111\n",
      "Acutal:8800 Prediction:8402 Error: 397\n",
      "Acutal:2900 Prediction:3103 Error: -203\n",
      "Acutal:2230 Prediction:2419 Error: -189\n",
      "Acutal:1500 Prediction:1718 Error: -218\n",
      "Acutal:1790 Prediction:1875 Error: -85\n",
      "Acutal:1550 Prediction:1605 Error: -55\n",
      "Acutal:6500 Prediction:7282 Error: -782\n",
      "Acutal:4350 Prediction:4813 Error: -463\n",
      "Acutal:2300 Prediction:2662 Error: -362\n",
      "Acutal:6000 Prediction:6505 Error: -505\n",
      "Acutal:15000 Prediction:13982 Error: 1017\n",
      "Acutal:1850 Prediction:1973 Error: -123\n",
      "Acutal:2900 Prediction:2783 Error: 116\n",
      "Acutal:4500 Prediction:4117 Error: 382\n",
      "Acutal:4000 Prediction:3777 Error: 222\n",
      "Acutal:8000 Prediction:7428 Error: 571\n",
      "Acutal:9000 Prediction:9731 Error: -731\n",
      "Acutal:12000 Prediction:11396 Error: 603\n",
      "Acutal:1350 Prediction:1463 Error: -113\n",
      "Acutal:1500 Prediction:1818 Error: -318\n",
      "Acutal:4150 Prediction:4032 Error: 117\n",
      "Acutal:1519 Prediction:1718 Error: -199\n",
      "Acutal:3500 Prediction:3612 Error: -112\n",
      "Acutal:2750 Prediction:2970 Error: -220\n",
      "Acutal:5000 Prediction:5747 Error: -747\n",
      "Acutal:2388 Prediction:1091 Error: 1296\n",
      "Acutal:1450 Prediction:1647 Error: -197\n",
      "Acutal:1550 Prediction:1945 Error: -395\n",
      "Acutal:1200 Prediction:1321 Error: -121\n",
      "Acutal:2300 Prediction:2397 Error: -97\n",
      "Acutal:4500 Prediction:5192 Error: -692\n",
      "Acutal:1300 Prediction:1661 Error: -361\n",
      "Acutal:5100 Prediction:5201 Error: -101\n",
      "Acutal:3000 Prediction:1803 Error: 1196\n",
      "Acutal:3500 Prediction:3463 Error: 36\n",
      "Acutal:9000 Prediction:8435 Error: 564\n",
      "Acutal:2431 Prediction:1603 Error: 827\n",
      "Acutal:4675 Prediction:4471 Error: 203\n",
      "Acutal:2550 Prediction:2823 Error: -273\n",
      "Acutal:9000 Prediction:8351 Error: 648\n",
      "Acutal:2700 Prediction:2585 Error: 114\n",
      "Acutal:1093 Prediction:1505 Error: -412\n",
      "Acutal:13000 Prediction:11763 Error: 1236\n",
      "Acutal:3200 Prediction:3178 Error: 21\n",
      "Acutal:3300 Prediction:3195 Error: 104\n",
      "Acutal:2500 Prediction:2485 Error: 14\n",
      "Acutal:3200 Prediction:3224 Error: -24\n",
      "Acutal:12000 Prediction:11314 Error: 685\n",
      "Acutal:1140 Prediction:1363 Error: -223\n",
      "Acutal:977 Prediction:1165 Error: -188\n",
      "Acutal:3200 Prediction:3208 Error: -8\n",
      "Acutal:6000 Prediction:5820 Error: 179\n",
      "Acutal:1200 Prediction:1647 Error: -447\n",
      "Acutal:1620 Prediction:1405 Error: 214\n",
      "Acutal:2200 Prediction:2134 Error: 65\n",
      "Acutal:15000 Prediction:14041 Error: 958\n",
      "Acutal:1100 Prediction:1179 Error: -79\n",
      "Acutal:5500 Prediction:5332 Error: 167\n",
      "Acutal:8000 Prediction:7514 Error: 485\n",
      "Acutal:2318 Prediction:2453 Error: -135\n",
      "Acutal:1800 Prediction:2165 Error: -365\n",
      "Acutal:1559 Prediction:1606 Error: -47\n",
      "Acutal:15000 Prediction:16400 Error: -1400\n",
      "Acutal:6800 Prediction:6446 Error: 353\n",
      "Acutal:2700 Prediction:2985 Error: -285\n",
      "Acutal:1500 Prediction:1419 Error: 80\n",
      "Acutal:1870 Prediction:822 Error: 1047\n",
      "Acutal:8000 Prediction:8620 Error: -620\n",
      "Acutal:5000 Prediction:4814 Error: 185\n",
      "Acutal:3500 Prediction:4060 Error: -560\n",
      "Acutal:10000 Prediction:9007 Error: 992\n",
      "Acutal:4150 Prediction:4004 Error: 145\n",
      "Acutal:1200 Prediction:1647 Error: -447\n",
      "Acutal:3486 Prediction:3672 Error: -186\n",
      "Acutal:4800 Prediction:4833 Error: -33\n",
      "Acutal:4000 Prediction:4098 Error: -98\n",
      "Acutal:4200 Prediction:4617 Error: -417\n",
      "Acutal:4180 Prediction:4060 Error: 119\n",
      "Acutal:1150 Prediction:1277 Error: -127\n",
      "Acutal:2200 Prediction:2230 Error: -30\n",
      "Acutal:5900 Prediction:5829 Error: 70\n",
      "Acutal:10500 Prediction:11124 Error: -624\n",
      "Acutal:3100 Prediction:3101 Error: -1\n",
      "Acutal:1700 Prediction:1985 Error: -285\n",
      "Acutal:7000 Prediction:6825 Error: 174\n",
      "Acutal:5000 Prediction:5579 Error: -579\n",
      "Acutal:2000 Prediction:2497 Error: -497\n",
      "Acutal:6400 Prediction:6243 Error: 156\n",
      "Acutal:1490 Prediction:1534 Error: -44\n",
      "Acutal:3300 Prediction:3204 Error: 95\n",
      "Acutal:3300 Prediction:3650 Error: -350\n",
      "Acutal:6000 Prediction:6507 Error: -507\n",
      "Acutal:9500 Prediction:9040 Error: 459\n",
      "Acutal:5500 Prediction:5556 Error: -56\n",
      "Acutal:12500 Prediction:13562 Error: -1062\n",
      "Acutal:1299 Prediction:1206 Error: 92\n",
      "Acutal:1600 Prediction:1377 Error: 222\n",
      "Acutal:3100 Prediction:3080 Error: 19\n",
      "Acutal:2750 Prediction:3222 Error: -472\n",
      "Acutal:5500 Prediction:5443 Error: 56\n",
      "Acutal:3300 Prediction:3706 Error: -406\n",
      "Acutal:1899 Prediction:830 Error: 1068\n",
      "Acutal:1700 Prediction:1690 Error: 9\n",
      "Acutal:1200 Prediction:1193 Error: 6\n",
      "Acutal:1700 Prediction:2087 Error: -387\n",
      "Acutal:4000 Prediction:3864 Error: 135\n",
      "Acutal:11700 Prediction:10765 Error: 934\n",
      "Acutal:6000 Prediction:5914 Error: 85\n",
      "Acutal:2000 Prediction:2378 Error: -378\n",
      "Acutal:1500 Prediction:1605 Error: -105\n",
      "Acutal:8000 Prediction:8637 Error: -637\n",
      "Acutal:4500 Prediction:4386 Error: 113\n",
      "Acutal:1460 Prediction:1675 Error: -215\n",
      "Acutal:2750 Prediction:3305 Error: -555\n",
      "Acutal:3200 Prediction:3208 Error: -8\n",
      "Acutal:4000 Prediction:4124 Error: -124\n",
      "Acutal:2850 Prediction:3102 Error: -252\n",
      "Acutal:1850 Prediction:1889 Error: -39\n",
      "Acutal:1500 Prediction:1549 Error: -49\n",
      "Acutal:3000 Prediction:3245 Error: -245\n",
      "Acutal:7650 Prediction:8610 Error: -960\n",
      "Acutal:4500 Prediction:4509 Error: -9\n",
      "Acutal:9500 Prediction:9206 Error: 293\n",
      "Acutal:4200 Prediction:4895 Error: -695\n",
      "Acutal:2640 Prediction:2917 Error: -277\n",
      "Acutal:2529 Prediction:3012 Error: -483\n",
      "Acutal:1500 Prediction:1530 Error: -30\n",
      "Acutal:1980 Prediction:2322 Error: -342\n",
      "Acutal:15000 Prediction:14038 Error: 961\n",
      "Acutal:3800 Prediction:3747 Error: 52\n",
      "Acutal:2300 Prediction:2128 Error: 171\n",
      "Acutal:900 Prediction:794 Error: 105\n",
      "Acutal:6000 Prediction:5942 Error: 57\n",
      "Acutal:1100 Prediction:1292 Error: -192\n",
      "Acutal:4000 Prediction:3833 Error: 166\n",
      "Acutal:7000 Prediction:6741 Error: 258\n",
      "Acutal:2790 Prediction:2822 Error: -32\n",
      "Acutal:1900 Prediction:2044 Error: -144\n",
      "Acutal:3400 Prediction:3514 Error: -114\n",
      "Acutal:1900 Prediction:2044 Error: -144\n",
      "Acutal:1300 Prediction:1392 Error: -92\n",
      "Acutal:3500 Prediction:3463 Error: 36\n",
      "Acutal:3150 Prediction:2996 Error: 153\n",
      "Acutal:1443 Prediction:652 Error: 790\n",
      "Acutal:12000 Prediction:11452 Error: 547\n",
      "Acutal:6900 Prediction:6517 Error: 382\n",
      "Acutal:3300 Prediction:3429 Error: -129\n",
      "Acutal:2550 Prediction:2668 Error: -118\n",
      "Acutal:4900 Prediction:4950 Error: -50\n",
      "Acutal:5700 Prediction:5427 Error: 272\n",
      "Acutal:3100 Prediction:3222 Error: -122\n",
      "Acutal:4800 Prediction:4489 Error: 310\n",
      "Acutal:4400 Prediction:4216 Error: 183\n",
      "Acutal:3900 Prediction:3968 Error: -68\n",
      "Acutal:1000 Prediction:1221 Error: -221\n",
      "Acutal:1550 Prediction:1952 Error: -402\n",
      "Acutal:2372 Prediction:780 Error: 1591\n",
      "Acutal:2250 Prediction:2029 Error: 220\n",
      "Acutal:6000 Prediction:5765 Error: 234\n",
      "Acutal:6700 Prediction:6220 Error: 479\n",
      "Acutal:3800 Prediction:3878 Error: -78\n",
      "Acutal:10000 Prediction:9202 Error: 797\n",
      "Acutal:2500 Prediction:2910 Error: -410\n",
      "Acutal:1650 Prediction:1732 Error: -82\n",
      "Acutal:2000 Prediction:2002 Error: -2\n",
      "Acutal:8300 Prediction:7946 Error: 353\n",
      "Acutal:2468 Prediction:2679 Error: -211\n",
      "Acutal:1100 Prediction:993 Error: 106\n",
      "Acutal:1100 Prediction:1206 Error: -106\n",
      "Acutal:2700 Prediction:2727 Error: -27\n",
      "Acutal:1100 Prediction:993 Error: 106\n",
      "Acutal:1300 Prediction:1477 Error: -177\n",
      "Acutal:15000 Prediction:13984 Error: 1015\n",
      "Acutal:4800 Prediction:5453 Error: -653\n",
      "Acutal:5500 Prediction:5237 Error: 262\n",
      "Acutal:3000 Prediction:3328 Error: -328\n",
      "Acutal:1150 Prediction:1363 Error: -213\n",
      "Acutal:7900 Prediction:8662 Error: -762\n",
      "Acutal:8000 Prediction:7622 Error: 377\n",
      "Acutal:9000 Prediction:8753 Error: 246\n",
      "Acutal:2500 Prediction:2567 Error: -67\n",
      "Acutal:2780 Prediction:3116 Error: -336\n",
      "Acutal:2000 Prediction:2057 Error: -57\n",
      "Acutal:5700 Prediction:5796 Error: -96\n",
      "Acutal:5520 Prediction:5448 Error: 71\n",
      "Acutal:3500 Prediction:3585 Error: -85\n",
      "Acutal:3000 Prediction:3656 Error: -656\n",
      "Acutal:5500 Prediction:5305 Error: 194\n",
      "Acutal:2900 Prediction:2839 Error: 60\n",
      "Acutal:1800 Prediction:1603 Error: 196\n",
      "Acutal:1900 Prediction:2016 Error: -116\n",
      "Acutal:9500 Prediction:8748 Error: 751\n",
      "Acutal:6200 Prediction:7121 Error: -921\n",
      "Acutal:2000 Prediction:2265 Error: -265\n",
      "Acutal:15000 Prediction:13888 Error: 1111\n",
      "Acutal:1200 Prediction:1647 Error: -447\n",
      "Acutal:1300 Prediction:1505 Error: -205\n",
      "Acutal:1100 Prediction:936 Error: 163\n",
      "Acutal:1250 Prediction:1590 Error: -340\n",
      "Acutal:595 Prediction:680 Error: -85\n",
      "Acutal:1800 Prediction:1659 Error: 140\n",
      "Acutal:10000 Prediction:9370 Error: 629\n",
      "Acutal:2500 Prediction:2454 Error: 45\n",
      "Acutal:4000 Prediction:4182 Error: -182\n",
      "Acutal:3500 Prediction:4006 Error: -506\n",
      "Acutal:4950 Prediction:4686 Error: 263\n",
      "Acutal:1100 Prediction:1505 Error: -405\n",
      "Acutal:12000 Prediction:11313 Error: 686\n",
      "Acutal:2200 Prediction:2257 Error: -57\n",
      "Acutal:1400 Prediction:1675 Error: -275\n",
      "Acutal:2800 Prediction:2976 Error: -176\n",
      "Acutal:1800 Prediction:1633 Error: 166\n",
      "Acutal:3000 Prediction:2981 Error: 18\n",
      "Acutal:3900 Prediction:3819 Error: 80\n",
      "Acutal:2000 Prediction:2322 Error: -322\n",
      "Acutal:1950 Prediction:2122 Error: -172\n",
      "Acutal:1800 Prediction:2229 Error: -429\n",
      "Acutal:2800 Prediction:2796 Error: 3\n",
      "Acutal:2300 Prediction:2372 Error: -72\n",
      "Acutal:6750 Prediction:6404 Error: 345\n",
      "Acutal:10120 Prediction:11133 Error: -1013\n",
      "Acutal:15000 Prediction:14319 Error: 680\n",
      "Acutal:4900 Prediction:5493 Error: -593\n",
      "Acutal:7600 Prediction:7156 Error: 443\n",
      "Acutal:980 Prediction:978 Error: 1\n",
      "Acutal:6500 Prediction:6005 Error: 494\n",
      "Acutal:7300 Prediction:7883 Error: -583\n",
      "Acutal:2300 Prediction:2342 Error: -42\n",
      "Acutal:4600 Prediction:4958 Error: -358\n",
      "Acutal:3500 Prediction:3672 Error: -172\n",
      "Acutal:720 Prediction:906 Error: -186\n",
      "Acutal:2000 Prediction:2199 Error: -199\n",
      "Acutal:2200 Prediction:2286 Error: -86\n",
      "Acutal:2200 Prediction:2015 Error: 184\n",
      "Acutal:1250 Prediction:1460 Error: -210\n",
      "Acutal:2800 Prediction:3056 Error: -256\n",
      "Acutal:2500 Prediction:2514 Error: -14\n",
      "Acutal:3200 Prediction:3236 Error: -36\n",
      "Acutal:1800 Prediction:2229 Error: -429\n",
      "Acutal:3182 Prediction:1292 Error: 1889\n",
      "Acutal:1000 Prediction:922 Error: 77\n",
      "Acutal:8000 Prediction:8994 Error: -994\n",
      "Acutal:3500 Prediction:3351 Error: 148\n",
      "Acutal:3190 Prediction:3330 Error: -140\n",
      "Acutal:1100 Prediction:1505 Error: -405\n",
      "Acutal:900 Prediction:1150 Error: -250\n",
      "Acutal:2349 Prediction:809 Error: 1539\n",
      "Acutal:1300 Prediction:1319 Error: -19\n",
      "Acutal:1650 Prediction:1910 Error: -260\n",
      "Acutal:1660 Prediction:1804 Error: -144\n",
      "Acutal:1300 Prediction:1718 Error: -418\n",
      "Acutal:8000 Prediction:7774 Error: 225\n",
      "Acutal:8500 Prediction:7825 Error: 674\n",
      "Acutal:8000 Prediction:8498 Error: -498\n",
      "Acutal:2001 Prediction:2144 Error: -143\n",
      "Acutal:1694 Prediction:957 Error: 736\n",
      "Acutal:6400 Prediction:7099 Error: -699\n",
      "Acutal:2800 Prediction:3350 Error: -550\n",
      "Acutal:1200 Prediction:1590 Error: -390\n",
      "Acutal:1000 Prediction:922 Error: 77\n",
      "Acutal:1650 Prediction:2073 Error: -423\n",
      "Acutal:2900 Prediction:3280 Error: -380\n",
      "Acutal:1700 Prediction:1773 Error: -73\n",
      "Acutal:1700 Prediction:1981 Error: -281\n",
      "Acutal:3800 Prediction:1847 Error: 1952\n",
      "Acutal:6000 Prediction:5821 Error: 178\n",
      "Acutal:750 Prediction:822 Error: -72\n",
      "Acutal:6200 Prediction:6057 Error: 142\n",
      "Acutal:900 Prediction:851 Error: 48\n",
      "Acutal:8000 Prediction:7662 Error: 337\n",
      "Acutal:1800 Prediction:1844 Error: -44\n",
      "Acutal:4500 Prediction:4566 Error: -66\n",
      "Acutal:830 Prediction:836 Error: -6\n",
      "Acutal:2200 Prediction:2286 Error: -86\n",
      "Acutal:2300 Prediction:2662 Error: -362\n",
      "Acutal:4000 Prediction:3915 Error: 84\n",
      "Acutal:2200 Prediction:2286 Error: -86\n",
      "Acutal:1000 Prediction:1107 Error: -107\n",
      "Acutal:2700 Prediction:2670 Error: 29\n",
      "Acutal:900 Prediction:1092 Error: -192\n",
      "Acutal:7800 Prediction:7421 Error: 378\n",
      "Acutal:3700 Prediction:3577 Error: 122\n",
      "Acutal:2300 Prediction:2399 Error: -99\n",
      "Acutal:550 Prediction:609 Error: -59\n",
      "Acutal:15000 Prediction:16636 Error: -1636\n",
      "Acutal:10200 Prediction:9621 Error: 578\n",
      "Acutal:2700 Prediction:2961 Error: -261\n",
      "Acutal:850 Prediction:1078 Error: -228\n",
      "Acutal:3200 Prediction:3609 Error: -409\n",
      "Acutal:6220 Prediction:6031 Error: 188\n",
      "Acutal:3700 Prediction:3634 Error: 65\n",
      "Acutal:6900 Prediction:8276 Error: -1376\n",
      "Acutal:8000 Prediction:7745 Error: 254\n",
      "Acutal:900 Prediction:1292 Error: -392\n",
      "Acutal:2000 Prediction:2321 Error: -321\n",
      "Acutal:1300 Prediction:1475 Error: -175\n",
      "Acutal:3350 Prediction:3239 Error: 110\n",
      "Acutal:6900 Prediction:6460 Error: 439\n",
      "Acutal:1800 Prediction:1875 Error: -75\n",
      "Acutal:6160 Prediction:5737 Error: 422\n",
      "Acutal:4000 Prediction:3861 Error: 138\n",
      "Acutal:2500 Prediction:2966 Error: -466\n",
      "Acutal:3070 Prediction:3065 Error: 4\n",
      "Acutal:4500 Prediction:4163 Error: 336\n",
      "Acutal:1468 Prediction:1348 Error: 119\n",
      "Acutal:8500 Prediction:7741 Error: 758\n",
      "Acutal:1200 Prediction:1193 Error: 6\n",
      "Acutal:4500 Prediction:4622 Error: -122\n",
      "Acutal:1210 Prediction:1321 Error: -111\n",
      "Acutal:14000 Prediction:13144 Error: 855\n",
      "Acutal:4000 Prediction:3861 Error: 138\n",
      "Acutal:1100 Prediction:1179 Error: -79\n",
      "Acutal:1650 Prediction:1676 Error: -26\n",
      "Acutal:7000 Prediction:6617 Error: 382\n",
      "Acutal:1800 Prediction:1995 Error: -195\n",
      "Acutal:7000 Prediction:7824 Error: -824\n",
      "Acutal:9000 Prediction:8669 Error: 330\n",
      "Acutal:2559 Prediction:2457 Error: 101\n",
      "Acutal:4500 Prediction:4360 Error: 139\n",
      "Acutal:1437 Prediction:1647 Error: -210\n",
      "Acutal:6500 Prediction:7293 Error: -793\n",
      "Acutal:2800 Prediction:2613 Error: 186\n",
      "Acutal:450 Prediction:425 Error: 24\n",
      "Acutal:12000 Prediction:11076 Error: 923\n",
      "Acutal:4000 Prediction:3748 Error: 251\n",
      "Acutal:3300 Prediction:3225 Error: 74\n",
      "Acutal:2000 Prediction:2144 Error: -144\n",
      "Acutal:3500 Prediction:3585 Error: -85\n",
      "Acutal:1000 Prediction:1191 Error: -191\n",
      "Acutal:2580 Prediction:2582 Error: -2\n",
      "Acutal:4800 Prediction:5453 Error: -653\n",
      "Acutal:11000 Prediction:11940 Error: -940\n",
      "Acutal:2100 Prediction:2336 Error: -236\n",
      "Acutal:6900 Prediction:6629 Error: 270\n",
      "Acutal:3500 Prediction:3808 Error: -308\n",
      "Acutal:2975 Prediction:2854 Error: 120\n",
      "Acutal:1200 Prediction:1347 Error: -147\n",
      "Acutal:1000 Prediction:1434 Error: -434\n",
      "Acutal:1764 Prediction:2165 Error: -401\n",
      "Acutal:900 Prediction:851 Error: 48\n",
      "Acutal:2580 Prediction:2868 Error: -288\n",
      "Acutal:5500 Prediction:5528 Error: -28\n",
      "Acutal:6000 Prediction:5968 Error: 31\n",
      "Acutal:5500 Prediction:5211 Error: 288\n",
      "Acutal:7130 Prediction:6966 Error: 163\n",
      "Acutal:2000 Prediction:1946 Error: 53\n",
      "Acutal:2390 Prediction:2563 Error: -173\n",
      "Acutal:3100 Prediction:1383 Error: 1716\n",
      "Acutal:2500 Prediction:2484 Error: 15\n",
      "Acutal:4000 Prediction:3890 Error: 109\n",
      "Acutal:4500 Prediction:4928 Error: -428\n",
      "Acutal:11700 Prediction:10917 Error: 782\n",
      "Acutal:6000 Prediction:6982 Error: -982\n",
      "Acutal:1820 Prediction:2236 Error: -416\n",
      "Acutal:5400 Prediction:6017 Error: -617\n",
      "Acutal:1750 Prediction:1928 Error: -178\n",
      "Acutal:4600 Prediction:4432 Error: 167\n",
      "Acutal:1550 Prediction:1718 Error: -168\n",
      "Acutal:5800 Prediction:6517 Error: -717\n",
      "Acutal:2550 Prediction:2668 Error: -118\n",
      "Acutal:3500 Prediction:3166 Error: 333\n",
      "Acutal:1850 Prediction:1859 Error: -9\n",
      "Acutal:7100 Prediction:8156 Error: -1056\n",
      "Acutal:7600 Prediction:4309 Error: 3290\n",
      "Acutal:3500 Prediction:3325 Error: 174\n",
      "Acutal:10000 Prediction:9176 Error: 823\n",
      "Acutal:6900 Prediction:6695 Error: 204\n",
      "Acutal:2600 Prediction:3136 Error: -536\n",
      "Acutal:1300 Prediction:1505 Error: -205\n",
      "Acutal:5200 Prediction:4853 Error: 346\n",
      "Acutal:1250 Prediction:1321 Error: -71\n",
      "Acutal:1340 Prediction:1448 Error: -108\n",
      "Acutal:2400 Prediction:2386 Error: 13\n",
      "Acutal:3566 Prediction:1020 Error: 2545\n",
      "Acutal:1700 Prediction:1675 Error: 24\n",
      "Acutal:5800 Prediction:5551 Error: 248\n",
      "Acutal:3400 Prediction:3848 Error: -448\n",
      "Acutal:4500 Prediction:4470 Error: 29\n",
      "Acutal:2490 Prediction:2541 Error: -51\n",
      "Acutal:4500 Prediction:4331 Error: 168\n",
      "Acutal:6000 Prediction:5971 Error: 28\n",
      "Acutal:500 Prediction:609 Error: -109\n",
      "Acutal:1000 Prediction:1107 Error: -107\n",
      "Acutal:3800 Prediction:3534 Error: 265\n",
      "Acutal:3500 Prediction:3494 Error: 5\n",
      "Acutal:10200 Prediction:9304 Error: 895\n",
      "Acutal:920 Prediction:1150 Error: -230\n",
      "Acutal:2200 Prediction:2192 Error: 7\n",
      "Acutal:9700 Prediction:8974 Error: 725\n",
      "Acutal:2707 Prediction:965 Error: 1741\n",
      "Acutal:4200 Prediction:4130 Error: 69\n",
      "Acutal:7900 Prediction:7336 Error: 563\n",
      "Acutal:2583 Prediction:2499 Error: 83\n",
      "Acutal:3500 Prediction:3457 Error: 42\n",
      "Acutal:7900 Prediction:7386 Error: 513\n",
      "Acutal:8500 Prediction:8114 Error: 385\n",
      "Acutal:3850 Prediction:3722 Error: 127\n",
      "Acutal:12000 Prediction:11188 Error: 811\n",
      "Acutal:9000 Prediction:9903 Error: -903\n",
      "Acutal:1294 Prediction:723 Error: 570\n",
      "Acutal:9800 Prediction:10806 Error: -1006\n",
      "Acutal:2210 Prediction:2170 Error: 39\n",
      "Acutal:10800 Prediction:10315 Error: 484\n",
      "Acutal:5000 Prediction:5048 Error: -48\n",
      "Acutal:1200 Prediction:1106 Error: 93\n",
      "Acutal:11000 Prediction:10099 Error: 900\n",
      "Acutal:2000 Prediction:2171 Error: -171\n",
      "Acutal:885 Prediction:1150 Error: -265\n",
      "Acutal:2150 Prediction:2733 Error: -583\n",
      "Acutal:647 Prediction:695 Error: -48\n",
      "Acutal:6675 Prediction:6306 Error: 368\n",
      "Acutal:2629 Prediction:978 Error: 1650\n",
      "Acutal:5520 Prediction:5448 Error: 71\n",
      "Acutal:7500 Prediction:7085 Error: 414\n"
     ]
    }
   ],
   "source": [
    "#### EVALUATION ####\n",
    "# print(‘-‘*30);print(” MANUAL TESTING “);print(‘-‘*30);\n",
    "testVals = model.predict(xTest)\n",
    "print(testVals.shape)\n",
    "error = []\n",
    "for i,testVal in enumerate(testVals):\n",
    "    error.append(yTest[i]-testVal)\n",
    "    print(f'Acutal:{yTest[i]} Prediction:{int(testVal)} Error: {int(error[i])}')\n",
    "\n"
   ]
  },
  {
   "cell_type": "code",
   "execution_count": null,
   "metadata": {},
   "outputs": [],
   "source": []
  },
  {
   "cell_type": "code",
   "execution_count": null,
   "metadata": {},
   "outputs": [],
   "source": []
  }
 ]
}